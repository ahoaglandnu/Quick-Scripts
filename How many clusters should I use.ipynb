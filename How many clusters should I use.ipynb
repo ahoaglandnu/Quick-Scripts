{
 "cells": [
  {
   "cell_type": "code",
   "execution_count": 1,
   "metadata": {
    "collapsed": true
   },
   "outputs": [],
   "source": [
    "#!/usr/bin/env python\n",
    "#-*- coding: utf-8 -*-\n",
    "%matplotlib inline"
   ]
  },
  {
   "cell_type": "code",
   "execution_count": 2,
   "metadata": {
    "collapsed": true
   },
   "outputs": [],
   "source": [
    "import numpy as np\n",
    "import pandas as pd\n",
    "from sklearn import datasets\n",
    "from sklearn.cluster import KMeans\n",
    "from sklearn.metrics import silhouette_score\n",
    "import matplotlib.pyplot as plt\n",
    "plt.style.use('ggplot')\n",
    "from IPython.display import HTML"
   ]
  },
  {
   "cell_type": "markdown",
   "metadata": {},
   "source": [
    "### Use silhouette score to select a value for k "
   ]
  },
  {
   "cell_type": "code",
   "execution_count": 3,
   "metadata": {
    "collapsed": false
   },
   "outputs": [
    {
     "data": {
      "text/html": [
       "<iframe width=\"560\" height=\"315\" src=\"http://scikit-learn.org/stable/modules/generated/sklearn.metrics.silhouette_score.html\" frameborder=\"0\" allowfullscreen></iframe>"
      ],
      "text/plain": [
       "<IPython.core.display.HTML object>"
      ]
     },
     "execution_count": 3,
     "metadata": {},
     "output_type": "execute_result"
    }
   ],
   "source": [
    "HTML('<iframe width=\"560\" height=\"315\" src=\"http://scikit-learn.org/stable/modules/generated/sklearn.metrics.silhouette_score.html\" frameborder=\"0\" allowfullscreen></iframe>')"
   ]
  },
  {
   "cell_type": "code",
   "execution_count": 4,
   "metadata": {
    "collapsed": true
   },
   "outputs": [],
   "source": [
    "# from the sklearn iris plot tutorial\n",
    "iris = datasets.load_iris()"
   ]
  },
  {
   "cell_type": "code",
   "execution_count": 5,
   "metadata": {
    "collapsed": false
   },
   "outputs": [],
   "source": [
    "# another line from the sklearn iris plot tutorial\n",
    "X = iris.data[:, :2]  # we only take the first two features.\n",
    "Y = iris.target"
   ]
  },
  {
   "cell_type": "code",
   "execution_count": 6,
   "metadata": {
    "collapsed": false
   },
   "outputs": [
    {
     "name": "stdout",
     "output_type": "stream",
     "text": [
      "3 clusters\n",
      " \n",
      "[0.44346932312451276]\n",
      " \n",
      "4 clusters\n",
      " \n",
      "[0.44346932312451276, 0.42173536178418641]\n",
      " \n",
      "5 clusters\n",
      " \n",
      "[0.44346932312451276, 0.42173536178418641, 0.41380330051467801]\n",
      " \n",
      "6 clusters\n",
      " \n",
      "[0.44346932312451276, 0.42173536178418641, 0.41380330051467801, 0.40172569947014569]\n",
      " \n",
      "7 clusters\n",
      " \n",
      "[0.44346932312451276, 0.42173536178418641, 0.41380330051467801, 0.40172569947014569, 0.4027721962846838]\n",
      " \n",
      "8 clusters\n",
      " \n",
      "[0.44346932312451276, 0.42173536178418641, 0.41380330051467801, 0.40172569947014569, 0.4027721962846838, 0.40102088041817335]\n",
      " \n",
      "9 clusters\n",
      " \n",
      "[0.44346932312451276, 0.42173536178418641, 0.41380330051467801, 0.40172569947014569, 0.4027721962846838, 0.40102088041817335, 0.39841428248697031]\n",
      " \n"
     ]
    }
   ],
   "source": [
    "# choose a range for k\n",
    "value = []\n",
    "k = range(3,10) \n",
    "for i in k:\n",
    "    kmeans = KMeans(n_clusters = i, random_state=4444)\n",
    "    kmeans.fit(X)\n",
    "    labels = kmeans.predict(X)\n",
    "    average = silhouette_score(X, labels)\n",
    "    value.append(average)\n",
    "    print \"%d clusters\" % i\n",
    "    print \" \"\n",
    "    print value\n",
    "    print \" \""
   ]
  },
  {
   "cell_type": "markdown",
   "metadata": {},
   "source": [
    "### sometimes it is easier to see on a chart"
   ]
  },
  {
   "cell_type": "code",
   "execution_count": 7,
   "metadata": {
    "collapsed": false
   },
   "outputs": [
    {
     "data": {
      "text/plain": [
       "<matplotlib.axes._subplots.AxesSubplot at 0xb1b8ac8>"
      ]
     },
     "execution_count": 7,
     "metadata": {},
     "output_type": "execute_result"
    },
    {
     "data": {
      "image/png": "[encoded data removed]",
      "text/plain": [
       "<matplotlib.figure.Figure at 0xb1b8320>"
      ]
     },
     "metadata": {},
     "output_type": "display_data"
    }
   ],
   "source": [
    "xlabel = range(3,10)\n",
    "score_df = pd.DataFrame(data=value, index=xlabel, columns=['silhouette'])\n",
    "score_df.plot(kind='bar')"
   ]
  },
  {
   "cell_type": "code",
   "execution_count": 8,
   "metadata": {
    "collapsed": false
   },
   "outputs": [
    {
     "data": {
      "text/html": [
       "<iframe width=\"560\" height=\"315\" src=\"//www.youtube.com/embed/3aYp-pJO9FA\" frameborder=\"0\" allowfullscreen></iframe>"
      ],
      "text/plain": [
       "<IPython.core.display.HTML object>"
      ]
     },
     "execution_count": 8,
     "metadata": {},
     "output_type": "execute_result"
    }
   ],
   "source": [
    "HTML('<iframe width=\"560\" height=\"315\" src=\"//www.youtube.com/embed/3aYp-pJO9FA\" frameborder=\"0\" allowfullscreen></iframe>')"
   ]
  }
 ],
 "metadata": {
  "anaconda-cloud": {},
  "kernelspec": {
   "display_name": "Python [Root]",
   "language": "python",
   "name": "Python [Root]"
  },
  "language_info": {
   "codemirror_mode": {
    "name": "ipython",
    "version": 2
   },
   "file_extension": ".py",
   "mimetype": "text/x-python",
   "name": "python",
   "nbconvert_exporter": "python",
   "pygments_lexer": "ipython2",
   "version": "2.7.12"
  }
 },
 "nbformat": 4,
 "nbformat_minor": 0
}
