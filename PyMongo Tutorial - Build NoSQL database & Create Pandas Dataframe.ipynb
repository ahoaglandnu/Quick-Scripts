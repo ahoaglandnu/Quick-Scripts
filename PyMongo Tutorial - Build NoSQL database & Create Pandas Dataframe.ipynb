{
 "cells": [
  {
   "cell_type": "markdown",
   "metadata": {},
   "source": [
    "PyMongo Documentation\n",
    "http://api.mongodb.com/python/current/tutorial.html"
   ]
  },
  {
   "cell_type": "markdown",
   "metadata": {},
   "source": [
    "### Start MongoDB  first \n",
    "\n",
    "### MongoDB installed on Macbook with Homebrew\n",
    "\n",
    "Open \"Terminal\" and start MongoDB first\n",
    "\n",
    "$ brew services start mongodb\n",
    "\n",
    "### MongoDB installed on Windows\n",
    "\n",
    "\"C:\\Program Files\\MongoDB\\Server\\3.4\\bin\\mongod.exe\""
   ]
  },
  {
   "cell_type": "code",
   "execution_count": 1,
   "metadata": {
    "collapsed": true
   },
   "outputs": [],
   "source": [
    "#!/usr/bin/env python\n",
    "#-*- coding: utf-8 -*-"
   ]
  },
  {
   "cell_type": "code",
   "execution_count": 2,
   "metadata": {
    "collapsed": false
   },
   "outputs": [],
   "source": [
    "import pymongo\n",
    "import pprint\n",
    "import pandas as pd"
   ]
  },
  {
   "cell_type": "code",
   "execution_count": 3,
   "metadata": {
    "collapsed": true
   },
   "outputs": [],
   "source": [
    "# set up a client connection\n",
    "client = pymongo.MongoClient()"
   ]
  },
  {
   "cell_type": "code",
   "execution_count": 4,
   "metadata": {
    "collapsed": true
   },
   "outputs": [],
   "source": [
    "# create a new database or call an existing one\n",
    "db = client.test_db"
   ]
  },
  {
   "cell_type": "code",
   "execution_count": 5,
   "metadata": {
    "collapsed": true
   },
   "outputs": [],
   "source": [
    "# create a collection of documents\n",
    "collection = db['music']"
   ]
  },
  {
   "cell_type": "code",
   "execution_count": 6,
   "metadata": {
    "collapsed": true
   },
   "outputs": [],
   "source": [
    "#create a document\n",
    "hit = {'Artist':'Lady Gaga',\n",
    "          'song': 'Poker Face',\n",
    "          'album': 'The Fame',\n",
    "          'year': 2008}"
   ]
  },
  {
   "cell_type": "code",
   "execution_count": 7,
   "metadata": {
    "collapsed": false
   },
   "outputs": [],
   "source": [
    "#Enter single document into the collection\n",
    "hit_id = collection.insert_one(hit).inserted_id"
   ]
  },
  {
   "cell_type": "code",
   "execution_count": 8,
   "metadata": {
    "collapsed": false
   },
   "outputs": [
    {
     "name": "stdout",
     "output_type": "stream",
     "text": [
      "{u'Artist': u'Lady Gaga',\n",
      " u'_id': ObjectId('5894b365465e863f28e93ea7'),\n",
      " u'album': u'The Fame',\n",
      " u'song': u'Poker Face',\n",
      " u'year': 2008}\n"
     ]
    }
   ],
   "source": [
    "# Pull single document\n",
    "# note the new '_id : ObjectId' unique id\n",
    "pprint.pprint(collection.find_one())"
   ]
  },
  {
   "cell_type": "code",
   "execution_count": 9,
   "metadata": {
    "collapsed": true
   },
   "outputs": [],
   "source": [
    "#create several documents\n",
    "hits = [{'Artist':'Nsync',\n",
    "         'song': 'Bye Bye Bye',\n",
    "         'album': 'No Strings Attached',\n",
    "         'year': 2000},\n",
    "        {'Artist':'Black Eyed Peas',\n",
    "         'song': 'I Gotta Feeling',\n",
    "         'album': 'The E.N.D.',\n",
    "         'year': 2000},\n",
    "        {'Artist':'Rihanna',\n",
    "         'song': 'Umbrella',\n",
    "         'album': 'Good Girl Gone Bad',\n",
    "         'year': 2007}]"
   ]
  },
  {
   "cell_type": "code",
   "execution_count": 10,
   "metadata": {
    "collapsed": false
   },
   "outputs": [],
   "source": [
    "#insert multiple documents\n",
    "hits_id = collection.insert_many(hits)"
   ]
  },
  {
   "cell_type": "code",
   "execution_count": 11,
   "metadata": {
    "collapsed": false
   },
   "outputs": [
    {
     "data": {
      "text/plain": [
       "[u'music']"
      ]
     },
     "execution_count": 11,
     "metadata": {},
     "output_type": "execute_result"
    }
   ],
   "source": [
    "# verify collection(s) in database\n",
    "db.collection_names(include_system_collections=False)"
   ]
  },
  {
   "cell_type": "markdown",
   "metadata": {},
   "source": [
    "# Query"
   ]
  },
  {
   "cell_type": "code",
   "execution_count": 12,
   "metadata": {
    "collapsed": false
   },
   "outputs": [
    {
     "name": "stdout",
     "output_type": "stream",
     "text": [
      "{u'Artist': u'Lady Gaga',\n",
      " u'_id': ObjectId('5894b365465e863f28e93ea7'),\n",
      " u'album': u'The Fame',\n",
      " u'song': u'Poker Face',\n",
      " u'year': 2008}\n",
      "{u'Artist': u'Nsync',\n",
      " u'_id': ObjectId('5894b365465e863f28e93ea8'),\n",
      " u'album': u'No Strings Attached',\n",
      " u'song': u'Bye Bye Bye',\n",
      " u'year': 2000}\n",
      "{u'Artist': u'Black Eyed Peas',\n",
      " u'_id': ObjectId('5894b365465e863f28e93ea9'),\n",
      " u'album': u'The E.N.D.',\n",
      " u'song': u'I Gotta Feeling',\n",
      " u'year': 2000}\n",
      "{u'Artist': u'Rihanna',\n",
      " u'_id': ObjectId('5894b365465e863f28e93eaa'),\n",
      " u'album': u'Good Girl Gone Bad',\n",
      " u'song': u'Umbrella',\n",
      " u'year': 2007}\n"
     ]
    }
   ],
   "source": [
    "#querying more that one document\n",
    "for documents in collection.find():\n",
    "    pprint.pprint(documents)"
   ]
  },
  {
   "cell_type": "code",
   "execution_count": 13,
   "metadata": {
    "collapsed": false
   },
   "outputs": [
    {
     "name": "stdout",
     "output_type": "stream",
     "text": [
      "{u'Artist': u'Nsync',\n",
      " u'_id': ObjectId('5894b365465e863f28e93ea8'),\n",
      " u'album': u'No Strings Attached',\n",
      " u'song': u'Bye Bye Bye',\n",
      " u'year': 2000}\n",
      "{u'Artist': u'Black Eyed Peas',\n",
      " u'_id': ObjectId('5894b365465e863f28e93ea9'),\n",
      " u'album': u'The E.N.D.',\n",
      " u'song': u'I Gotta Feeling',\n",
      " u'year': 2000}\n"
     ]
    }
   ],
   "source": [
    "# query for specific data\n",
    "for documents in collection.find({'year': 2000}):\n",
    "    pprint.pprint(documents)"
   ]
  },
  {
   "cell_type": "code",
   "execution_count": 14,
   "metadata": {
    "collapsed": false
   },
   "outputs": [
    {
     "data": {
      "text/plain": [
       "4"
      ]
     },
     "execution_count": 14,
     "metadata": {},
     "output_type": "execute_result"
    }
   ],
   "source": [
    "# count documents\n",
    "collection.count()"
   ]
  },
  {
   "cell_type": "code",
   "execution_count": 15,
   "metadata": {
    "collapsed": false
   },
   "outputs": [
    {
     "data": {
      "text/plain": [
       "2"
      ]
     },
     "execution_count": 15,
     "metadata": {},
     "output_type": "execute_result"
    }
   ],
   "source": [
    "# count documents with specific data\n",
    "collection.find({'year': 2000}).count()"
   ]
  },
  {
   "cell_type": "markdown",
   "metadata": {},
   "source": [
    "# import collection as a dataframe"
   ]
  },
  {
   "cell_type": "code",
   "execution_count": 16,
   "metadata": {
    "collapsed": false
   },
   "outputs": [
    {
     "name": "stdout",
     "output_type": "stream",
     "text": [
      "[{u'album': u'The Fame', u'_id': ObjectId('5894b365465e863f28e93ea7'), u'year': 2008, u'Artist': u'Lady Gaga', u'song': u'Poker Face'}, {u'album': u'No Strings Attached', u'_id': ObjectId('5894b365465e863f28e93ea8'), u'year': 2000, u'Artist': u'Nsync', u'song': u'Bye Bye Bye'}, {u'album': u'The E.N.D.', u'_id': ObjectId('5894b365465e863f28e93ea9'), u'year': 2000, u'Artist': u'Black Eyed Peas', u'song': u'I Gotta Feeling'}, {u'album': u'Good Girl Gone Bad', u'_id': ObjectId('5894b365465e863f28e93eaa'), u'year': 2007, u'Artist': u'Rihanna', u'song': u'Umbrella'}]\n"
     ]
    }
   ],
   "source": [
    "# view all documents in a collection as a list\n",
    "print (list(collection.find()))"
   ]
  },
  {
   "cell_type": "code",
   "execution_count": 17,
   "metadata": {
    "collapsed": true
   },
   "outputs": [],
   "source": [
    "# converts list to dataframe \n",
    "df = pd.DataFrame(list(collection.find()))"
   ]
  },
  {
   "cell_type": "code",
   "execution_count": 18,
   "metadata": {
    "collapsed": false
   },
   "outputs": [
    {
     "data": {
      "text/html": [
       "<div>\n",
       "<table border=\"1\" class=\"dataframe\">\n",
       "  <thead>\n",
       "    <tr style=\"text-align: right;\">\n",
       "      <th></th>\n",
       "      <th>Artist</th>\n",
       "      <th>_id</th>\n",
       "      <th>album</th>\n",
       "      <th>song</th>\n",
       "      <th>year</th>\n",
       "    </tr>\n",
       "  </thead>\n",
       "  <tbody>\n",
       "    <tr>\n",
       "      <th>0</th>\n",
       "      <td>Lady Gaga</td>\n",
       "      <td>5894b365465e863f28e93ea7</td>\n",
       "      <td>The Fame</td>\n",
       "      <td>Poker Face</td>\n",
       "      <td>2008</td>\n",
       "    </tr>\n",
       "    <tr>\n",
       "      <th>1</th>\n",
       "      <td>Nsync</td>\n",
       "      <td>5894b365465e863f28e93ea8</td>\n",
       "      <td>No Strings Attached</td>\n",
       "      <td>Bye Bye Bye</td>\n",
       "      <td>2000</td>\n",
       "    </tr>\n",
       "    <tr>\n",
       "      <th>2</th>\n",
       "      <td>Black Eyed Peas</td>\n",
       "      <td>5894b365465e863f28e93ea9</td>\n",
       "      <td>The E.N.D.</td>\n",
       "      <td>I Gotta Feeling</td>\n",
       "      <td>2000</td>\n",
       "    </tr>\n",
       "    <tr>\n",
       "      <th>3</th>\n",
       "      <td>Rihanna</td>\n",
       "      <td>5894b365465e863f28e93eaa</td>\n",
       "      <td>Good Girl Gone Bad</td>\n",
       "      <td>Umbrella</td>\n",
       "      <td>2007</td>\n",
       "    </tr>\n",
       "  </tbody>\n",
       "</table>\n",
       "</div>"
      ],
      "text/plain": [
       "            Artist                       _id                album  \\\n",
       "0        Lady Gaga  5894b365465e863f28e93ea7             The Fame   \n",
       "1            Nsync  5894b365465e863f28e93ea8  No Strings Attached   \n",
       "2  Black Eyed Peas  5894b365465e863f28e93ea9           The E.N.D.   \n",
       "3          Rihanna  5894b365465e863f28e93eaa   Good Girl Gone Bad   \n",
       "\n",
       "              song  year  \n",
       "0       Poker Face  2008  \n",
       "1      Bye Bye Bye  2000  \n",
       "2  I Gotta Feeling  2000  \n",
       "3         Umbrella  2007  "
      ]
     },
     "execution_count": 18,
     "metadata": {},
     "output_type": "execute_result"
    }
   ],
   "source": [
    "# verify dataframe\n",
    "df"
   ]
  },
  {
   "cell_type": "code",
   "execution_count": 19,
   "metadata": {
    "collapsed": false
   },
   "outputs": [
    {
     "data": {
      "text/plain": [
       "4"
      ]
     },
     "execution_count": 19,
     "metadata": {},
     "output_type": "execute_result"
    }
   ],
   "source": [
    "# if you need to delete ALL documents in a collection\n",
    "result = collection.delete_many({})\n",
    "#### to verify the number of documents deleted\n",
    "result.deleted_count"
   ]
  },
  {
   "cell_type": "markdown",
   "metadata": {
    "collapsed": true
   },
   "source": [
    "remember to stop mongodb\n",
    "\n",
    "Macbook\n",
    "$ brew services stop mongodb\n",
    "\n",
    "Windows\n",
    "control+c"
   ]
  }
 ],
 "metadata": {
  "kernelspec": {
   "display_name": "Python [Root]",
   "language": "python",
   "name": "Python [Root]"
  },
  "language_info": {
   "codemirror_mode": {
    "name": "ipython",
    "version": 2
   },
   "file_extension": ".py",
   "mimetype": "text/x-python",
   "name": "python",
   "nbconvert_exporter": "python",
   "pygments_lexer": "ipython2",
   "version": "2.7.12"
  }
 },
 "nbformat": 4,
 "nbformat_minor": 0
}
